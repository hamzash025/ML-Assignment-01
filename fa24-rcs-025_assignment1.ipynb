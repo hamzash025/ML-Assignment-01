{
 "cells": [
  {
   "cell_type": "code",
   "execution_count": 85,
   "id": "b1cb65a9-0e9c-4843-af31-ca638a8a1ddf",
   "metadata": {},
   "outputs": [],
   "source": [
    "#Task1.1 - Create a list: nums = [3, 5, 7, 8, 12], make another list named ‘cubes’ and append the cubes of the given list ‘nums’ in this list and print it."
   ]
  },
  {
   "cell_type": "code",
   "execution_count": 3,
   "id": "a5e3dd32-d3b2-4692-90e4-4fa62785b472",
   "metadata": {},
   "outputs": [],
   "source": [
    "nums = [3,5,7,8,12]"
   ]
  },
  {
   "cell_type": "code",
   "execution_count": 13,
   "id": "a3094003-790d-49fd-b604-63f009c7d800",
   "metadata": {},
   "outputs": [],
   "source": [
    "cubes = []"
   ]
  },
  {
   "cell_type": "code",
   "execution_count": 15,
   "id": "82af3f98-9008-4293-86e2-9cf060f9c365",
   "metadata": {},
   "outputs": [],
   "source": [
    "for num in nums:\n",
    "    cubes.append(num ** 3)"
   ]
  },
  {
   "cell_type": "code",
   "execution_count": 17,
   "id": "14da063a-6d5f-4d55-aeeb-9fc8dd24d036",
   "metadata": {},
   "outputs": [
    {
     "name": "stdout",
     "output_type": "stream",
     "text": [
      "[27, 125, 343, 512, 1728]\n"
     ]
    }
   ],
   "source": [
    "print(cubes)"
   ]
  },
  {
   "cell_type": "code",
   "execution_count": 87,
   "id": "cba84305-c7c1-4f30-bc1e-12362877b3a3",
   "metadata": {},
   "outputs": [],
   "source": [
    "#Task1.2 - Create an empty dictionary: dict = {}, add the following data to the dictionary: ‘parrot’: 2, ‘goat’: 4, ‘spider’: 8, ‘crab’: 10 as key value pairs."
   ]
  },
  {
   "cell_type": "code",
   "execution_count": 23,
   "id": "b9b03482-445b-4b9d-822e-3f099598992c",
   "metadata": {},
   "outputs": [],
   "source": [
    "dict = {}"
   ]
  },
  {
   "cell_type": "code",
   "execution_count": 25,
   "id": "8abc78b7-bf0a-40aa-8fd6-efb433a7b943",
   "metadata": {},
   "outputs": [],
   "source": [
    "dict['parrot'] = 2"
   ]
  },
  {
   "cell_type": "code",
   "execution_count": 27,
   "id": "43d3faf4-aac0-4c43-9814-9016343da473",
   "metadata": {},
   "outputs": [],
   "source": [
    "dict['goat'] = 4"
   ]
  },
  {
   "cell_type": "code",
   "execution_count": 29,
   "id": "9a0cd6bf-1eb4-42ec-9be9-448c4e9e6c53",
   "metadata": {},
   "outputs": [],
   "source": [
    "dict['spider'] = 8"
   ]
  },
  {
   "cell_type": "code",
   "execution_count": 31,
   "id": "84061826-bac5-4b79-951c-c04bcc04b6ce",
   "metadata": {},
   "outputs": [],
   "source": [
    "dict['crab'] = 10"
   ]
  },
  {
   "cell_type": "code",
   "execution_count": 33,
   "id": "7be36405-c750-4542-8d21-44fa864d4b1f",
   "metadata": {},
   "outputs": [
    {
     "name": "stdout",
     "output_type": "stream",
     "text": [
      "{'parrot': 2, 'goat': 4, 'spider': 8, 'crab': 10}\n"
     ]
    }
   ],
   "source": [
    "print(dict)"
   ]
  },
  {
   "cell_type": "code",
   "execution_count": 89,
   "id": "a3f82b14-66e9-41b7-99ca-9f2be8b304a8",
   "metadata": {},
   "outputs": [],
   "source": [
    "#Task1.3 - Use the ‘items’ method to loop over the dictionary (dict) and print the animals and their corresponding legs. Sum the legs of each animal, and print the total at the end."
   ]
  },
  {
   "cell_type": "code",
   "execution_count": 37,
   "id": "79c5c4c4-c399-4789-b1a9-bd0de91091c7",
   "metadata": {},
   "outputs": [],
   "source": [
    "total_legs = 0"
   ]
  },
  {
   "cell_type": "code",
   "execution_count": 39,
   "id": "c723df11-6590-492a-951e-0b87759c338a",
   "metadata": {},
   "outputs": [
    {
     "name": "stdout",
     "output_type": "stream",
     "text": [
      "parrot: 2 legs\n",
      "goat: 4 legs\n",
      "spider: 8 legs\n",
      "crab: 10 legs\n"
     ]
    }
   ],
   "source": [
    "for animal, legs in dict.items():\n",
    "    print(f\"{animal}: {legs} legs\")\n",
    "    total_legs += legs"
   ]
  },
  {
   "cell_type": "code",
   "execution_count": 41,
   "id": "357d990b-4811-483b-906a-d5528d432d55",
   "metadata": {},
   "outputs": [
    {
     "name": "stdout",
     "output_type": "stream",
     "text": [
      "Total number of legs: 24\n"
     ]
    }
   ],
   "source": [
    "print(f\"Total number of legs: {total_legs}\")"
   ]
  },
  {
   "cell_type": "code",
   "execution_count": 91,
   "id": "09b9a47c-2233-44f8-b103-46b712ef9935",
   "metadata": {},
   "outputs": [],
   "source": [
    "#Task1.4 - Create a tuple: A = (3, 9, 4, [5, 6]), change the value in the list from ‘5’ to ‘8’."
   ]
  },
  {
   "cell_type": "code",
   "execution_count": 45,
   "id": "c3e438c1-489b-4c49-9793-0fdad99607fe",
   "metadata": {},
   "outputs": [],
   "source": [
    "A = (3, 9, 4, [5, 6])"
   ]
  },
  {
   "cell_type": "code",
   "execution_count": 47,
   "id": "a2df4b24-e91f-4a85-b413-dab0143466ca",
   "metadata": {},
   "outputs": [],
   "source": [
    "A[3][0] = 8"
   ]
  },
  {
   "cell_type": "code",
   "execution_count": 49,
   "id": "1573db85-9ce5-4b71-b746-c83ba92a62c9",
   "metadata": {},
   "outputs": [
    {
     "name": "stdout",
     "output_type": "stream",
     "text": [
      "(3, 9, 4, [8, 6])\n"
     ]
    }
   ],
   "source": [
    "print(A)"
   ]
  },
  {
   "cell_type": "code",
   "execution_count": 93,
   "id": "36da2a0a-83a4-4586-96a0-f31bf958a8f8",
   "metadata": {},
   "outputs": [],
   "source": [
    "#Task1.5 - Delete the tuple A."
   ]
  },
  {
   "cell_type": "code",
   "execution_count": 53,
   "id": "c0434598-455c-43e8-a02f-7fbe456c7e5e",
   "metadata": {},
   "outputs": [],
   "source": [
    "del A"
   ]
  },
  {
   "cell_type": "code",
   "execution_count": 95,
   "id": "dfef6ec0-5ce4-452f-8abb-819f607ea18c",
   "metadata": {},
   "outputs": [],
   "source": [
    "#Task1.6 - Create another tuple: B = (‘a’, ‘p’, ‘p’, ‘l’, ‘e’), print the number of occurrences of ‘p’ in the tuple."
   ]
  },
  {
   "cell_type": "code",
   "execution_count": 57,
   "id": "15e70c46-3994-4f23-80c6-2d04a765cd61",
   "metadata": {},
   "outputs": [],
   "source": [
    "B = ('a', 'p', 'p', 'l', 'e')"
   ]
  },
  {
   "cell_type": "code",
   "execution_count": 63,
   "id": "ff4b4022-c48d-4f97-ac48-ebb242bed8f0",
   "metadata": {},
   "outputs": [],
   "source": [
    "count_p = B.count('p')"
   ]
  },
  {
   "cell_type": "code",
   "execution_count": 65,
   "id": "fcd53ae6-828a-4db3-ad12-b4c726a2fa34",
   "metadata": {},
   "outputs": [
    {
     "name": "stdout",
     "output_type": "stream",
     "text": [
      "The letter 'p' appears 2 times in the tuple\n"
     ]
    }
   ],
   "source": [
    "print(f\"The letter 'p' appears {count_p} times in the tuple\")"
   ]
  },
  {
   "cell_type": "code",
   "execution_count": 67,
   "id": "2e06369e-a040-45e2-8b5d-fef30945c994",
   "metadata": {},
   "outputs": [],
   "source": [
    "count_a = B.count('a')"
   ]
  },
  {
   "cell_type": "code",
   "execution_count": 69,
   "id": "c6539659-0075-47b6-901c-fa665282653b",
   "metadata": {},
   "outputs": [
    {
     "name": "stdout",
     "output_type": "stream",
     "text": [
      "The letter 'a' appears 1 times in the tuple\n"
     ]
    }
   ],
   "source": [
    "print(f\"The letter 'a' appears {count_a} times in the tuple\")"
   ]
  },
  {
   "cell_type": "code",
   "execution_count": 97,
   "id": "51190f5f-5bb5-4cae-9883-3a3e2e18d0ac",
   "metadata": {},
   "outputs": [],
   "source": [
    "#Task1.7 - Print the index of ‘l’ in the tuple."
   ]
  },
  {
   "cell_type": "code",
   "execution_count": 73,
   "id": "e2c3578c-562b-45ab-bc55-869c6c794d87",
   "metadata": {},
   "outputs": [],
   "source": [
    "B = ('a', 'p', 'p', 'l', 'e')"
   ]
  },
  {
   "cell_type": "code",
   "execution_count": 75,
   "id": "af7c19bd-7ff5-4726-b8e4-00313b814377",
   "metadata": {},
   "outputs": [],
   "source": [
    "index_l = B.index('l')"
   ]
  },
  {
   "cell_type": "code",
   "execution_count": 77,
   "id": "e1a241d3-36e7-4f3e-a54f-6f32434675c3",
   "metadata": {},
   "outputs": [
    {
     "name": "stdout",
     "output_type": "stream",
     "text": [
      "The index of 'l' in the tuple is: 3\n"
     ]
    }
   ],
   "source": [
    "print(f\"The index of 'l' in the tuple is: {index_l}\")"
   ]
  },
  {
   "cell_type": "code",
   "execution_count": 79,
   "id": "e56e52ce-ce9b-43f8-bcdf-5a8d89676285",
   "metadata": {},
   "outputs": [],
   "source": [
    "index_e = B.index('e')"
   ]
  },
  {
   "cell_type": "code",
   "execution_count": 81,
   "id": "4c1fbfc8-d013-4067-9878-11588c326c94",
   "metadata": {},
   "outputs": [
    {
     "name": "stdout",
     "output_type": "stream",
     "text": [
      "The index of 'e' in the tuple is: 4\n"
     ]
    }
   ],
   "source": [
    "print(f\"The index of 'e' in the tuple is: {index_e}\")"
   ]
  },
  {
   "cell_type": "code",
   "execution_count": 99,
   "id": "7edc98a9-412b-4e39-bcf9-20bdaf97ffdf",
   "metadata": {},
   "outputs": [],
   "source": [
    "#Task2.1 - Convert matrix A into numpy array"
   ]
  },
  {
   "cell_type": "code",
   "execution_count": 101,
   "id": "3578189a-c9af-4feb-aab0-d45ff0f9147a",
   "metadata": {},
   "outputs": [],
   "source": [
    "import numpy as np"
   ]
  },
  {
   "cell_type": "code",
   "execution_count": 103,
   "id": "8aac46a9-faca-4d06-88e4-18f367994b20",
   "metadata": {},
   "outputs": [],
   "source": [
    "A = [\n",
    "    [1, 2, 3, 4],\n",
    "    [5, 6, 7, 8],\n",
    "    [9, 10, 11, 12]\n",
    "]"
   ]
  },
  {
   "cell_type": "code",
   "execution_count": 105,
   "id": "bc1cf464-5456-4aac-b311-3418ad56f21d",
   "metadata": {},
   "outputs": [],
   "source": [
    "A_np = np.array(A)"
   ]
  },
  {
   "cell_type": "code",
   "execution_count": 107,
   "id": "8c93e270-8c1a-45e7-9be3-05b7ae8be8bc",
   "metadata": {},
   "outputs": [
    {
     "name": "stdout",
     "output_type": "stream",
     "text": [
      "[[ 1  2  3  4]\n",
      " [ 5  6  7  8]\n",
      " [ 9 10 11 12]]\n"
     ]
    }
   ],
   "source": [
    "print(A_np)"
   ]
  },
  {
   "cell_type": "code",
   "execution_count": 109,
   "id": "33f18ea9-cb16-4a47-9875-d6b36f814ecf",
   "metadata": {},
   "outputs": [],
   "source": [
    "#Task2.2 -  Use slicing to pull out the subarray consisting of the first 2 rows and columns 1 and 2. Store it in b which is a numpy array of shape (2, 2)"
   ]
  },
  {
   "cell_type": "code",
   "execution_count": 111,
   "id": "679bbbe1-677f-43f6-be84-af63cc502b63",
   "metadata": {},
   "outputs": [],
   "source": [
    "B = A_np[:2, :2]"
   ]
  },
  {
   "cell_type": "code",
   "execution_count": 113,
   "id": "64219666-a435-4d64-814f-db7525408d89",
   "metadata": {},
   "outputs": [
    {
     "name": "stdout",
     "output_type": "stream",
     "text": [
      "[[1 2]\n",
      " [5 6]]\n"
     ]
    }
   ],
   "source": [
    "print(B)"
   ]
  },
  {
   "cell_type": "code",
   "execution_count": 115,
   "id": "52a41466-cf52-4ee7-9132-68826c68b74f",
   "metadata": {},
   "outputs": [],
   "source": [
    "#Task2.3 - Create an empty matrix ‘C’ with the same shape as ‘A"
   ]
  },
  {
   "cell_type": "code",
   "execution_count": 117,
   "id": "f62b556a-125b-40d8-9f71-24dc643fc7d3",
   "metadata": {},
   "outputs": [],
   "source": [
    "C = np.empty_like(A)"
   ]
  },
  {
   "cell_type": "code",
   "execution_count": null,
   "id": "5dcd0426-defa-417a-8f36-846ade8d569d",
   "metadata": {},
   "outputs": [],
   "source": [
    "#Task2.4 - "
   ]
  },
  {
   "cell_type": "code",
   "execution_count": 131,
   "id": "229e6a04-47e2-4c2a-8b77-a8356e61cc96",
   "metadata": {},
   "outputs": [],
   "source": [
    "X = np.array([[1, 2], [3, 4]])"
   ]
  },
  {
   "cell_type": "code",
   "execution_count": 146,
   "id": "cbe9e61e-3285-4aeb-92f6-b088ab426dc9",
   "metadata": {},
   "outputs": [],
   "source": [
    "v = np.array([9, 10])"
   ]
  },
  {
   "cell_type": "code",
   "execution_count": 148,
   "id": "8c2e3439-4017-4c92-a6e5-72d751dd92cc",
   "metadata": {},
   "outputs": [],
   "source": [
    "C = np.empty_like(X)"
   ]
  },
  {
   "cell_type": "code",
   "execution_count": 150,
   "id": "4c89b0ef-ff4c-443a-bb97-3a27fe5300c4",
   "metadata": {},
   "outputs": [],
   "source": [
    "for i in range(X.shape[1]): \n",
    "    C[:, i] = X[:, i] + v"
   ]
  },
  {
   "cell_type": "code",
   "execution_count": 152,
   "id": "eee399ab-8e76-488a-9e14-a49f36fd9dc6",
   "metadata": {},
   "outputs": [
    {
     "name": "stdout",
     "output_type": "stream",
     "text": [
      "Matrix C:\n"
     ]
    }
   ],
   "source": [
    "print(\"Matrix C:\")"
   ]
  },
  {
   "cell_type": "code",
   "execution_count": 158,
   "id": "85059aab-ef8b-4b7c-af8b-73f69e13295d",
   "metadata": {},
   "outputs": [],
   "source": [
    "Y = np.array([[5, 6], [7, 8]])"
   ]
  },
  {
   "cell_type": "code",
   "execution_count": 154,
   "id": "3fb3ef58-fdf0-4ef5-9687-a8cbc7f6089a",
   "metadata": {},
   "outputs": [
    {
     "name": "stdout",
     "output_type": "stream",
     "text": [
      "[[10 11]\n",
      " [13 14]]\n"
     ]
    }
   ],
   "source": [
    "print(C)"
   ]
  },
  {
   "cell_type": "code",
   "execution_count": 170,
   "id": "1b4226a8-50db-4e5f-8294-1c39c11c82e7",
   "metadata": {},
   "outputs": [],
   "source": [
    "#Task2.5 -  Add and print the matrices X and Y."
   ]
  },
  {
   "cell_type": "code",
   "execution_count": 156,
   "id": "35c0024f-1b7b-4764-93ad-99424cbff531",
   "metadata": {},
   "outputs": [],
   "source": [
    "X = np.array([[1, 2], [3, 4]])"
   ]
  },
  {
   "cell_type": "code",
   "execution_count": 160,
   "id": "bf9638b1-880b-410c-a639-e9be085b33c9",
   "metadata": {},
   "outputs": [],
   "source": [
    "Z = X + Y"
   ]
  },
  {
   "cell_type": "code",
   "execution_count": 164,
   "id": "156c75b4-20d0-4e6b-bbfb-c737494ee7c6",
   "metadata": {},
   "outputs": [
    {
     "name": "stdout",
     "output_type": "stream",
     "text": [
      "Matrix Z (X + Y):\n"
     ]
    }
   ],
   "source": [
    "print(\"Matrix Z (X + Y):\")"
   ]
  },
  {
   "cell_type": "code",
   "execution_count": 168,
   "id": "5864d011-a4b6-4eb3-83fe-6d097e7b3d3d",
   "metadata": {},
   "outputs": [
    {
     "name": "stdout",
     "output_type": "stream",
     "text": [
      "[[10 11]\n",
      " [13 14]]\n"
     ]
    }
   ],
   "source": [
    "print(C)"
   ]
  },
  {
   "cell_type": "code",
   "execution_count": 172,
   "id": "bcccbb62-3cd6-4654-893b-7ea2809ae544",
   "metadata": {},
   "outputs": [],
   "source": [
    "#Task2.6 - Multiply and print the matrices X and Y."
   ]
  },
  {
   "cell_type": "code",
   "execution_count": 174,
   "id": "bbefdc7c-7ce1-4a3a-9d91-cde95c645b2a",
   "metadata": {},
   "outputs": [],
   "source": [
    "Z = X @ Y  "
   ]
  },
  {
   "cell_type": "code",
   "execution_count": 176,
   "id": "75fd5139-b51e-4b67-b763-45f108f30120",
   "metadata": {},
   "outputs": [
    {
     "name": "stdout",
     "output_type": "stream",
     "text": [
      "Matrix Z (X * Y):\n"
     ]
    }
   ],
   "source": [
    "print(\"Matrix Z (X * Y):\")"
   ]
  },
  {
   "cell_type": "code",
   "execution_count": 178,
   "id": "561550c7-f244-4bfd-95cd-98c3c60c7aee",
   "metadata": {},
   "outputs": [
    {
     "name": "stdout",
     "output_type": "stream",
     "text": [
      "[[19 22]\n",
      " [43 50]]\n"
     ]
    }
   ],
   "source": [
    "print(Z)"
   ]
  },
  {
   "cell_type": "code",
   "execution_count": 180,
   "id": "089c40e5-3b51-4f51-93a9-0c89f58660c0",
   "metadata": {},
   "outputs": [],
   "source": [
    "#Task2.7 -  Compute and print the element wise square root of matrix Y."
   ]
  },
  {
   "cell_type": "code",
   "execution_count": 182,
   "id": "a94b7dc2-3c48-48a2-a7f9-6accc4cb1051",
   "metadata": {},
   "outputs": [],
   "source": [
    "Y = np.array([[5, 6], [7, 8]])"
   ]
  },
  {
   "cell_type": "code",
   "execution_count": 184,
   "id": "7a60c598-f1c7-4c25-9e2b-232b90d8be9c",
   "metadata": {},
   "outputs": [],
   "source": [
    "sqrt_Y = np.sqrt(Y)"
   ]
  },
  {
   "cell_type": "code",
   "execution_count": 186,
   "id": "fb65d5b6-7b16-46be-a54c-51d14012dcf1",
   "metadata": {},
   "outputs": [
    {
     "name": "stdout",
     "output_type": "stream",
     "text": [
      "Element-wise square root of matrix Y:\n"
     ]
    }
   ],
   "source": [
    "print(\"Element-wise square root of matrix Y:\")"
   ]
  },
  {
   "cell_type": "code",
   "execution_count": 188,
   "id": "bdbd0679-b3f0-4b82-8de7-d0bc4859b20e",
   "metadata": {},
   "outputs": [
    {
     "name": "stdout",
     "output_type": "stream",
     "text": [
      "[[2.23606798 2.44948974]\n",
      " [2.64575131 2.82842712]]\n"
     ]
    }
   ],
   "source": [
    "print(sqrt_Y)"
   ]
  },
  {
   "cell_type": "code",
   "execution_count": 190,
   "id": "54584800-467d-4f41-aa00-3e8ef717b193",
   "metadata": {},
   "outputs": [],
   "source": [
    "#Task2.8 - Compute and print the dot product of the matrix X and vector v."
   ]
  },
  {
   "cell_type": "code",
   "execution_count": 192,
   "id": "d2b5209f-e357-44fa-99f0-3dcac5e50d75",
   "metadata": {},
   "outputs": [],
   "source": [
    "dot_product = X @ v"
   ]
  },
  {
   "cell_type": "code",
   "execution_count": 194,
   "id": "1f4acafe-35c0-4732-92d2-a93dbd1276d9",
   "metadata": {},
   "outputs": [
    {
     "name": "stdout",
     "output_type": "stream",
     "text": [
      "Dot product of matrix X and vector v:\n"
     ]
    }
   ],
   "source": [
    "print(\"Dot product of matrix X and vector v:\")"
   ]
  },
  {
   "cell_type": "code",
   "execution_count": 196,
   "id": "7df9c1fc-82f6-4b95-93f1-0056ce563fbc",
   "metadata": {},
   "outputs": [
    {
     "name": "stdout",
     "output_type": "stream",
     "text": [
      "[29 67]\n"
     ]
    }
   ],
   "source": [
    "print(dot_product)"
   ]
  },
  {
   "cell_type": "code",
   "execution_count": 198,
   "id": "913865ee-b50e-46aa-ac18-0f628f530ff0",
   "metadata": {},
   "outputs": [],
   "source": [
    "#Task2.9 - Compute and print the sum of each column of X."
   ]
  },
  {
   "cell_type": "code",
   "execution_count": 200,
   "id": "9b80bbc0-b53e-48dc-acb5-f042ed274c73",
   "metadata": {},
   "outputs": [],
   "source": [
    "column_sums = np.sum(X, axis=0)"
   ]
  },
  {
   "cell_type": "code",
   "execution_count": 202,
   "id": "a244e9df-ba53-4df1-9b19-06e0bc365477",
   "metadata": {},
   "outputs": [
    {
     "name": "stdout",
     "output_type": "stream",
     "text": [
      "Sum of each column of matrix X:\n"
     ]
    }
   ],
   "source": [
    "print(\"Sum of each column of matrix X:\")"
   ]
  },
  {
   "cell_type": "code",
   "execution_count": 204,
   "id": "1d1ba37d-c326-4c2f-b932-4740997b0a62",
   "metadata": {},
   "outputs": [
    {
     "name": "stdout",
     "output_type": "stream",
     "text": [
      "[4 6]\n"
     ]
    }
   ],
   "source": [
    "print(column_sums)"
   ]
  },
  {
   "cell_type": "code",
   "execution_count": 61,
   "id": "1b008377-179b-444b-96f0-9f9a8576ef2e",
   "metadata": {},
   "outputs": [],
   "source": [
    "#Task3.1 - Create a function ‘Compute’ that takes two arguments, distance and time, and use it to calculate velocity"
   ]
  },
  {
   "cell_type": "code",
   "execution_count": 111,
   "id": "1e78bbe2-36e0-4c1d-86af-ce2a174cadd6",
   "metadata": {},
   "outputs": [
    {
     "name": "stdout",
     "output_type": "stream",
     "text": [
      "Velocity: 5.0 meters per second\n",
      "   Distance  Time  Velocity\n",
      "0       100    20       5.0\n",
      "1       150    30       5.0\n",
      "2       200    40       5.0\n",
      "3        50    10       5.0\n",
      "4       120    15       8.0\n"
     ]
    }
   ],
   "source": [
    "def Compute(distance, time):\n",
    "    # Check if time is zero to avoid division by zero\n",
    "    if time == 0:\n",
    "        return \"Time cannot be zero.\"\n",
    "    \n",
    "    velocity = distance / time\n",
    "    return velocity\n",
    "\n",
    "distance = 100  \n",
    "time = 20       \n",
    "\n",
    "velocity = Compute(distance, time)\n",
    "print(f\"Velocity: {velocity} meters per second\")\n",
    "\n",
    "# Now let's create a pandas DataFrame for distances and times\n",
    "data = {\n",
    "    'Distance': [100, 150, 200, 50, 120],  \n",
    "    'Time': [20, 30, 40, 10, 15]           \n",
    "}\n",
    "\n",
    "df = pd.DataFrame(data)\n",
    "\n",
    "# Calculate velocity for each row and add it as a new column\n",
    "df['Velocity'] = df.apply(lambda row: Compute(row['Distance'], row['Time']), axis=1)\n",
    "\n",
    "print(df)"
   ]
  },
  {
   "cell_type": "code",
   "execution_count": 115,
   "id": "89bfbef7-215d-43f7-b4ae-1313ab029fef",
   "metadata": {},
   "outputs": [],
   "source": [
    "#Task3.2 - Make a list named ‘even_num’ that contains all even numbers up till 12. Create a function ‘mult’ that takes the list‘even_num’ as an argument and calculates the products of all entries using a for loop"
   ]
  },
  {
   "cell_type": "code",
   "execution_count": 117,
   "id": "98fc7313-8355-4aeb-8360-0d712d6f1fad",
   "metadata": {},
   "outputs": [
    {
     "name": "stdout",
     "output_type": "stream",
     "text": [
      "The product of all even numbers up to 12 is: 46080\n"
     ]
    }
   ],
   "source": [
    "even_num = [2, 4, 6, 8, 10, 12]\n",
    "\n",
    "# Define the function to calculate the product of all elements in the list\n",
    "def mult(even_num):\n",
    "    product = 1  \n",
    "    \n",
    "    # Loop through each number in the list and multiply it with the current product\n",
    "    for num in even_num:\n",
    "        product *= num\n",
    "    \n",
    "    return product\n",
    "\n",
    "# Call the function and print the result\n",
    "result = mult(even_num)\n",
    "print(f\"The product of all even numbers up to 12 is: {result}\")\n"
   ]
  },
  {
   "cell_type": "code",
   "execution_count": 109,
   "id": "fb7f79bb-def0-4c9c-aa0e-9c778b4b91db",
   "metadata": {},
   "outputs": [],
   "source": [
    "#Task4.1 - Print only the first two rows of the dataframe."
   ]
  },
  {
   "cell_type": "code",
   "execution_count": 11,
   "id": "b39a1ff7-627d-4a96-88f7-e1eb13496f32",
   "metadata": {},
   "outputs": [],
   "source": [
    "import pandas as pd"
   ]
  },
  {
   "cell_type": "code",
   "execution_count": 13,
   "id": "7fe00a89-dc99-4426-a6a1-259ff7b8e11a",
   "metadata": {},
   "outputs": [],
   "source": [
    "data = {\n",
    "    'C1': [1, 2, 3, 5, 5],\n",
    "    'C2': [6, 7, 5, 4, 8],\n",
    "    'C3': [7, 9, 8, 6, 5],\n",
    "    'C4': [7, 5, 2, 8, 8]\n",
    "}"
   ]
  },
  {
   "cell_type": "code",
   "execution_count": 15,
   "id": "fc8e3c05-0ce1-4d8d-88ac-8b9795a9cc7b",
   "metadata": {},
   "outputs": [],
   "source": [
    "df = pd.DataFrame(data)"
   ]
  },
  {
   "cell_type": "code",
   "execution_count": 17,
   "id": "e2073f9a-8e40-4dfc-8525-735b5eae085f",
   "metadata": {},
   "outputs": [
    {
     "name": "stdout",
     "output_type": "stream",
     "text": [
      "   C1  C2  C3  C4\n",
      "0   1   6   7   7\n",
      "1   2   7   9   5\n"
     ]
    }
   ],
   "source": [
    "print(df.head(2))"
   ]
  },
  {
   "cell_type": "code",
   "execution_count": 19,
   "id": "54f74239-71bf-47dc-995c-4957e78feff6",
   "metadata": {},
   "outputs": [],
   "source": [
    "#Task4.2 -  Print the second column."
   ]
  },
  {
   "cell_type": "code",
   "execution_count": 21,
   "id": "bef4e12e-0a3b-42b3-afa1-997aac451cac",
   "metadata": {},
   "outputs": [
    {
     "name": "stdout",
     "output_type": "stream",
     "text": [
      "0    6\n",
      "1    7\n",
      "2    5\n",
      "3    4\n",
      "4    8\n",
      "Name: C2, dtype: int64\n"
     ]
    }
   ],
   "source": [
    "print(df['C2'])"
   ]
  },
  {
   "cell_type": "code",
   "execution_count": 23,
   "id": "1a2e3e69-9416-484a-9fe1-dac0911b82f2",
   "metadata": {},
   "outputs": [],
   "source": [
    "#Task4.3 -  Change the name of the third column from ‘C3’ to ‘B3’"
   ]
  },
  {
   "cell_type": "code",
   "execution_count": 25,
   "id": "407c8892-acfa-42b4-aa5b-9701ca7c7ed6",
   "metadata": {},
   "outputs": [],
   "source": [
    "df.rename(columns={'C3': 'B3'}, inplace=True)"
   ]
  },
  {
   "cell_type": "code",
   "execution_count": 27,
   "id": "10a61742-b76a-43c1-8a9e-e1e060d18a5a",
   "metadata": {},
   "outputs": [
    {
     "name": "stdout",
     "output_type": "stream",
     "text": [
      "   C1  C2  B3  C4\n",
      "0   1   6   7   7\n",
      "1   2   7   9   5\n",
      "2   3   5   8   2\n",
      "3   5   4   6   8\n",
      "4   5   8   5   8\n"
     ]
    }
   ],
   "source": [
    "print(df)"
   ]
  },
  {
   "cell_type": "code",
   "execution_count": 29,
   "id": "7df599ea-28ff-49da-b24e-d6eb916732e3",
   "metadata": {},
   "outputs": [],
   "source": [
    "#Task4.4 - Add a new column to the dataframe and name it ‘Sum"
   ]
  },
  {
   "cell_type": "code",
   "execution_count": 31,
   "id": "19f705f0-648b-4342-a736-a068d9fbdc32",
   "metadata": {},
   "outputs": [],
   "source": [
    "df['Sum'] = df.sum(axis=1)"
   ]
  },
  {
   "cell_type": "code",
   "execution_count": 33,
   "id": "83f9130c-37c8-464f-94d8-939fc6fba09b",
   "metadata": {},
   "outputs": [
    {
     "name": "stdout",
     "output_type": "stream",
     "text": [
      "   C1  C2  B3  C4  Sum\n",
      "0   1   6   7   7   21\n",
      "1   2   7   9   5   23\n",
      "2   3   5   8   2   18\n",
      "3   5   4   6   8   23\n",
      "4   5   8   5   8   26\n"
     ]
    }
   ],
   "source": [
    "print(df)"
   ]
  },
  {
   "cell_type": "code",
   "execution_count": 35,
   "id": "fb916016-9014-4cc5-9a9a-bc47380931f3",
   "metadata": {},
   "outputs": [],
   "source": [
    "#Task4.5 - Sum the entries of each row and add the result in the column ‘Sum’."
   ]
  },
  {
   "cell_type": "code",
   "execution_count": 43,
   "id": "e7282e9b-1bcd-4725-9fad-4f928fbb0884",
   "metadata": {},
   "outputs": [],
   "source": [
    "df['Sum'] = df.sum(axis=1)"
   ]
  },
  {
   "cell_type": "code",
   "execution_count": 45,
   "id": "587c3166-64e6-4439-a74f-be91ff521bd4",
   "metadata": {},
   "outputs": [
    {
     "name": "stdout",
     "output_type": "stream",
     "text": [
      "   C1  C2  B3  C4   Sum\n",
      "0   1   6   7   7  21.0\n",
      "1   2   7   9   5  23.0\n",
      "2   3   5   8   2  18.0\n",
      "3   5   4   6   8  23.0\n",
      "4   5   8   5   8  26.0\n"
     ]
    }
   ],
   "source": [
    "print(df)\n"
   ]
  },
  {
   "cell_type": "code",
   "execution_count": 47,
   "id": "9785ceac-4aa7-4f2b-9284-4a88b55492ff",
   "metadata": {},
   "outputs": [],
   "source": [
    "#Task4.6 -  Read CSV file named ‘hello_sample.csv’ (the file is available in the class Google Drive shared folder) into a Pandas dataframe.  "
   ]
  },
  {
   "cell_type": "code",
   "execution_count": 3,
   "id": "a04c1bb4-528a-42cd-a9c9-253c4f02811f",
   "metadata": {},
   "outputs": [],
   "source": [
    "import pandas as pd"
   ]
  },
  {
   "cell_type": "code",
   "execution_count": 11,
   "id": "08d68247-5a14-466c-a344-36ffe6166918",
   "metadata": {},
   "outputs": [],
   "source": [
    "dataset = pd.read_csv(\"hello_sample.csv\")"
   ]
  },
  {
   "cell_type": "code",
   "execution_count": null,
   "id": "6620fdbf-822d-4a28-9662-133816747c23",
   "metadata": {},
   "outputs": [],
   "source": [
    "#Task4.7 -  Print complete dataframe"
   ]
  },
  {
   "cell_type": "code",
   "execution_count": 15,
   "id": "93f7ec0e-221e-40fa-ab38-f888a512e806",
   "metadata": {},
   "outputs": [
    {
     "name": "stdout",
     "output_type": "stream",
     "text": [
      "    Gender  F_Color     B_Month  Weight\n",
      "0     Male    Black       March      77\n",
      "1     Male      Red       March      72\n",
      "2     Male    Black     October      53\n",
      "3   Female     Blue    February      63\n",
      "4     Male    black    October       80\n",
      "5   Female    Black    december      97\n",
      "6     Male   Orange      August      60\n",
      "7   Female      Red   September      59\n",
      "8     Male     Blue        July      60\n",
      "9     Male     Blue         May      58\n",
      "10  Female      Red    October       60\n",
      "11    Male    Black   September      65\n",
      "12    Male    Green    December      85\n",
      "13    Male    Black       April      72\n",
      "14    Male    Green    January       90\n",
      "15    Male   Yellow   November       90\n",
      "16    Male    Black      August      54\n",
      "17    Male    Black     January      82\n",
      "18    Male  Mustard   December       60\n",
      "19  Female    Black    October       76\n",
      "20    Male    Black   February       67\n",
      "21    Male   Yellow       April      74\n",
      "22    Male      Red  September       66\n"
     ]
    }
   ],
   "source": [
    "print(dataset)"
   ]
  },
  {
   "cell_type": "code",
   "execution_count": 17,
   "id": "bbaae785-b220-4b67-ab36-a217b7b03b19",
   "metadata": {},
   "outputs": [],
   "source": [
    "#Task4.8 -  Print only bottom 2 records of the dataframe."
   ]
  },
  {
   "cell_type": "code",
   "execution_count": 19,
   "id": "37f0d93a-7a0f-42e7-bf3a-416838e74b4c",
   "metadata": {},
   "outputs": [
    {
     "name": "stdout",
     "output_type": "stream",
     "text": [
      "   Gender F_Color     B_Month  Weight\n",
      "21   Male  Yellow       April      74\n",
      "22   Male     Red  September       66\n"
     ]
    }
   ],
   "source": [
    "print(dataset.tail(2))"
   ]
  },
  {
   "cell_type": "code",
   "execution_count": 21,
   "id": "694449a0-ccfb-4314-aeca-8915aab55bf0",
   "metadata": {},
   "outputs": [],
   "source": [
    "#Task4.9 -  Print information about the dataframe."
   ]
  },
  {
   "cell_type": "code",
   "execution_count": 23,
   "id": "bddbd9bb-bc38-452d-9a67-d538deaeb0f9",
   "metadata": {},
   "outputs": [
    {
     "name": "stdout",
     "output_type": "stream",
     "text": [
      "<class 'pandas.core.frame.DataFrame'>\n",
      "RangeIndex: 23 entries, 0 to 22\n",
      "Data columns (total 4 columns):\n",
      " #   Column   Non-Null Count  Dtype \n",
      "---  ------   --------------  ----- \n",
      " 0   Gender   23 non-null     object\n",
      " 1   F_Color  23 non-null     object\n",
      " 2   B_Month  23 non-null     object\n",
      " 3   Weight   23 non-null     int64 \n",
      "dtypes: int64(1), object(3)\n",
      "memory usage: 868.0+ bytes\n"
     ]
    }
   ],
   "source": [
    "dataset.info()"
   ]
  },
  {
   "cell_type": "code",
   "execution_count": 29,
   "id": "25334284-3d64-4cad-9f69-c3b85045d9b7",
   "metadata": {},
   "outputs": [],
   "source": [
    "#Task4.10 - Print shape (rows x columns) of the dataframe"
   ]
  },
  {
   "cell_type": "code",
   "execution_count": 27,
   "id": "ddcefbc9-6e11-4c09-9090-d454b30cb76b",
   "metadata": {},
   "outputs": [
    {
     "name": "stdout",
     "output_type": "stream",
     "text": [
      "Shape of the DataFrame: (23, 4)\n"
     ]
    }
   ],
   "source": [
    "print(\"Shape of the DataFrame:\", dataset.shape)"
   ]
  },
  {
   "cell_type": "code",
   "execution_count": 31,
   "id": "d351a734-40b1-4a54-bcd8-9b8a53ec0a58",
   "metadata": {},
   "outputs": [],
   "source": [
    "#Task4.11 -  Sort the data of the dataFrame using column ‘Weight’."
   ]
  },
  {
   "cell_type": "code",
   "execution_count": 33,
   "id": "356f5565-a053-438e-8286-dd8ff8be0f34",
   "metadata": {},
   "outputs": [],
   "source": [
    "dataset_sorted = dataset.sort_values(by='Weight')"
   ]
  },
  {
   "cell_type": "code",
   "execution_count": 37,
   "id": "1dac2a8f-bb0d-4c9e-9fa0-54ecd64dfbfc",
   "metadata": {},
   "outputs": [
    {
     "name": "stdout",
     "output_type": "stream",
     "text": [
      "    Gender  F_Color     B_Month  Weight\n",
      "2     Male    Black     October      53\n",
      "16    Male    Black      August      54\n",
      "9     Male     Blue         May      58\n",
      "7   Female      Red   September      59\n",
      "18    Male  Mustard   December       60\n",
      "10  Female      Red    October       60\n",
      "6     Male   Orange      August      60\n",
      "8     Male     Blue        July      60\n",
      "3   Female     Blue    February      63\n",
      "11    Male    Black   September      65\n",
      "22    Male      Red  September       66\n",
      "20    Male    Black   February       67\n",
      "13    Male    Black       April      72\n",
      "1     Male      Red       March      72\n",
      "21    Male   Yellow       April      74\n",
      "19  Female    Black    October       76\n",
      "0     Male    Black       March      77\n",
      "4     Male    black    October       80\n",
      "17    Male    Black     January      82\n",
      "12    Male    Green    December      85\n",
      "14    Male    Green    January       90\n",
      "15    Male   Yellow   November       90\n",
      "5   Female    Black    december      97\n"
     ]
    }
   ],
   "source": [
    "print(dataset_sorted)"
   ]
  },
  {
   "cell_type": "code",
   "execution_count": 39,
   "id": "44d5f488-0793-472e-aab3-db462164f7e4",
   "metadata": {},
   "outputs": [],
   "source": [
    "#Task4.12 -  Use isnull() and dropna() methods of the Pandas dataframe and see if they produce any changes."
   ]
  },
  {
   "cell_type": "code",
   "execution_count": 41,
   "id": "db2d576a-0819-4d9c-8ac9-5639a50866c0",
   "metadata": {},
   "outputs": [
    {
     "name": "stdout",
     "output_type": "stream",
     "text": [
      "Checking for missing values:\n"
     ]
    }
   ],
   "source": [
    "print(\"Checking for missing values:\")"
   ]
  },
  {
   "cell_type": "code",
   "execution_count": 45,
   "id": "11e7256a-664d-4c04-9f94-f350dec67890",
   "metadata": {},
   "outputs": [
    {
     "name": "stdout",
     "output_type": "stream",
     "text": [
      "    Gender  F_Color  B_Month  Weight\n",
      "0    False    False    False   False\n",
      "1    False    False    False   False\n",
      "2    False    False    False   False\n",
      "3    False    False    False   False\n",
      "4    False    False    False   False\n",
      "5    False    False    False   False\n",
      "6    False    False    False   False\n",
      "7    False    False    False   False\n",
      "8    False    False    False   False\n",
      "9    False    False    False   False\n",
      "10   False    False    False   False\n",
      "11   False    False    False   False\n",
      "12   False    False    False   False\n",
      "13   False    False    False   False\n",
      "14   False    False    False   False\n",
      "15   False    False    False   False\n",
      "16   False    False    False   False\n",
      "17   False    False    False   False\n",
      "18   False    False    False   False\n",
      "19   False    False    False   False\n",
      "20   False    False    False   False\n",
      "21   False    False    False   False\n",
      "22   False    False    False   False\n"
     ]
    }
   ],
   "source": [
    "print(dataset.isnull())"
   ]
  },
  {
   "cell_type": "code",
   "execution_count": 55,
   "id": "953b2802-7d19-45c8-84c2-fd1eaa67b338",
   "metadata": {},
   "outputs": [],
   "source": [
    "dataset_cleaned = dataset.dropna()"
   ]
  },
  {
   "cell_type": "code",
   "execution_count": 57,
   "id": "7717f310-a3c0-432e-beb8-b068cdbe745d",
   "metadata": {},
   "outputs": [
    {
     "name": "stdout",
     "output_type": "stream",
     "text": [
      "\n",
      "DataFrame after dropping rows with missing values:\n"
     ]
    }
   ],
   "source": [
    "print(\"\\nDataFrame after dropping rows with missing values:\")"
   ]
  },
  {
   "cell_type": "code",
   "execution_count": 59,
   "id": "a4a1598d-734a-4402-baa6-3a324ab2840a",
   "metadata": {},
   "outputs": [
    {
     "name": "stdout",
     "output_type": "stream",
     "text": [
      "    Gender  F_Color     B_Month  Weight\n",
      "0     Male    Black       March      77\n",
      "1     Male      Red       March      72\n",
      "2     Male    Black     October      53\n",
      "3   Female     Blue    February      63\n",
      "4     Male    black    October       80\n",
      "5   Female    Black    december      97\n",
      "6     Male   Orange      August      60\n",
      "7   Female      Red   September      59\n",
      "8     Male     Blue        July      60\n",
      "9     Male     Blue         May      58\n",
      "10  Female      Red    October       60\n",
      "11    Male    Black   September      65\n",
      "12    Male    Green    December      85\n",
      "13    Male    Black       April      72\n",
      "14    Male    Green    January       90\n",
      "15    Male   Yellow   November       90\n",
      "16    Male    Black      August      54\n",
      "17    Male    Black     January      82\n",
      "18    Male  Mustard   December       60\n",
      "19  Female    Black    October       76\n",
      "20    Male    Black   February       67\n",
      "21    Male   Yellow       April      74\n",
      "22    Male      Red  September       66\n"
     ]
    }
   ],
   "source": [
    "print(dataset_cleaned)"
   ]
  },
  {
   "cell_type": "code",
   "execution_count": null,
   "id": "d1caf62c-c5a2-4af8-9cf3-99e165d53fd1",
   "metadata": {},
   "outputs": [],
   "source": []
  }
 ],
 "metadata": {
  "kernelspec": {
   "display_name": "Python 3 (ipykernel)",
   "language": "python",
   "name": "python3"
  },
  "language_info": {
   "codemirror_mode": {
    "name": "ipython",
    "version": 3
   },
   "file_extension": ".py",
   "mimetype": "text/x-python",
   "name": "python",
   "nbconvert_exporter": "python",
   "pygments_lexer": "ipython3",
   "version": "3.12.4"
  }
 },
 "nbformat": 4,
 "nbformat_minor": 5
}
